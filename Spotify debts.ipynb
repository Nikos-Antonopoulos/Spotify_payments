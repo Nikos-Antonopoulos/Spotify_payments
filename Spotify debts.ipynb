{
 "cells": [
  {
   "cell_type": "code",
   "execution_count": 7,
   "metadata": {},
   "outputs": [
    {
     "name": "stdout",
     "output_type": "stream",
     "text": [
      "Months subscribed to Spotify: 38 \n",
      "\n",
      "There was a price change on 1 of September 2024. \n",
      "We have been paying based on the old spotify's price (2 euro/month) for: 33 months.\n",
      "We have been paying based on the new spotify's price (2.16 euro/month) for: 5 months.\n",
      "\n",
      "Spyrellis  owes -> 6.8\n",
      "Konstantina  owes -> 30.8\n",
      "Christopher  owes -> 2.8\n",
      "Mazarakis  owes -> 0.8\n",
      "Mo  owes -> 4.32\n"
     ]
    }
   ],
   "source": [
    "from datetime import datetime\n",
    "from dateutil.relativedelta import relativedelta\n",
    "\n",
    "# Subscription details\n",
    "first_payment_date = datetime.strptime('18/11/2020', \"%d/%m/%Y\")\n",
    "today_date = datetime.today()\n",
    "price_change_date = datetime.strptime('01/09/2023', \"%d/%m/%Y\")\n",
    "\n",
    "# Calculate months subscribed to Spotify\n",
    "months_subscribed = relativedelta(today_date, first_payment_date).months + (relativedelta(today_date, first_payment_date).years * 12)\n",
    "print(\"Months subscribed to Spotify:\", months_subscribed,\"\\n\")\n",
    "\n",
    "# Calculate months with original price and months with new price\n",
    "months_with_original_price = relativedelta(price_change_date, first_payment_date).months + (relativedelta(price_change_date, first_payment_date).years * 12)\n",
    "months_with_new_price = months_subscribed - months_with_original_price\n",
    "print(\"There was a price change on 1 of September 2024. \\nWe have been paying based on the old spotify's price (2 euro/month) for:\",months_with_original_price, \"months.\\nWe have been paying based on the new spotify's price (2.16 euro/month) for:\",months_with_new_price, \"months.\\n\")# Calculate total cost and amounts paid\n",
    "\n",
    "# Calculate total cost and amounts paid\n",
    "total_cost = months_with_original_price * 2 + months_with_new_price * 2.16\n",
    "amounts_paid = {\"Spyrellis\": 20 + 50,\n",
    "                 \"Konstantina\": 46,\n",
    "                 #  \"Andrikopoulos\": 48 + 20,\n",
    "                     \"Christopher\": 74, \n",
    "                       \"Mazarakis\": 36 + 24+ 16,\n",
    "                         \"Mo\": 0}\n",
    "\n",
    "# Calculate amounts owed\n",
    "amounts_owed = {name: round(total_cost - paid, 2) for name, paid in amounts_paid.items()}\n",
    "\n",
    "# Print amounts owed\n",
    "for name, amount_due in amounts_owed.items():\n",
    "    if name == \"Mo\":\n",
    "      amount_due = amount_due -72.48\n",
    "    print(name, ' owes ->', round(amount_due,2))\n"
   ]
  }
 ],
 "metadata": {
  "kernelspec": {
   "display_name": "Python 3.9.0 64-bit (system)",
   "language": "python",
   "name": "python3"
  },
  "language_info": {
   "codemirror_mode": {
    "name": "ipython",
    "version": 3
   },
   "file_extension": ".py",
   "mimetype": "text/x-python",
   "name": "python",
   "nbconvert_exporter": "python",
   "pygments_lexer": "ipython3",
   "version": "3.10.10"
  },
  "orig_nbformat": 4,
  "vscode": {
   "interpreter": {
    "hash": "1d58ed5f177fd93b43db106f746c919ea7e6996bc070c8841d6890bc725d5b77"
   }
  }
 },
 "nbformat": 4,
 "nbformat_minor": 2
}

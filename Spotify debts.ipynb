{
 "cells": [
  {
   "cell_type": "code",
   "execution_count": 21,
   "metadata": {},
   "outputs": [
    {
     "name": "stdout",
     "output_type": "stream",
     "text": [
      "Months subscribed to Spotify: 36 \n",
      "\n",
      "There was a price change on 1 of September. \n",
      "So we have been paying based on the old spotify's price for: 33 months.\n",
      "And to the new spotify price for: 3 months.\n",
      "\n",
      "Spyrellis  owes -> 2.48\n",
      "Konstantina  owes -> 26.48\n",
      "Christopher  owes -> -1.52\n",
      "Mazarakis  owes -> 12.48\n",
      "Mo  owes -> 0.0\n"
     ]
    }
   ],
   "source": [
    "from datetime import datetime\n",
    "from dateutil.relativedelta import relativedelta\n",
    "\n",
    "# Subscription details\n",
    "first_payment_date = datetime.strptime('18/11/2020', \"%d/%m/%Y\")\n",
    "today_date = datetime.today()\n",
    "price_change_date = datetime.strptime('01/09/2023', \"%d/%m/%Y\")\n",
    "\n",
    "# Calculate months subscribed to Spotify\n",
    "months_subscribed = relativedelta(today_date, first_payment_date).months + (relativedelta(today_date, first_payment_date).years * 12)\n",
    "print(\"Months subscribed to Spotify:\", months_subscribed,\"\\n\")\n",
    "\n",
    "# Calculate months with original price and months with new price\n",
    "months_with_original_price = relativedelta(price_change_date, first_payment_date).months + (relativedelta(price_change_date, first_payment_date).years * 12)\n",
    "months_with_new_price = months_subscribed - months_with_original_price\n",
    "print(\"There was a price change on 1 of September. \\nSo we have been paying based on the old spotify's price for:\",months_with_original_price, \"months.\\nAnd to the new spotify price for:\",months_with_new_price, \"months.\\n\")# Calculate total cost and amounts paid\n",
    "\n",
    "# Calculate total cost and amounts paid\n",
    "total_cost = months_with_original_price * 2 + months_with_new_price * 2.16\n",
    "amounts_paid = {\"Spyrellis\": 20 + 50,\n",
    "                 \"Konstantina\": 46,\n",
    "                 #  \"Andrikopoulos\": 48 + 20,\n",
    "                     \"Christopher\": 74,\n",
    "                       \"Mazarakis\": 36 + 24,\n",
    "                         \"Mo\": 0}\n",
    "\n",
    "# Calculate amounts owed\n",
    "amounts_owed = {name: round(total_cost - paid, 2) for name, paid in amounts_paid.items()}\n",
    "\n",
    "# Print amounts owed\n",
    "for name, amount_due in amounts_owed.items():\n",
    "    if name == \"Mo\":\n",
    "      amount_due = amount_due -72.48\n",
    "    print(name, ' owes ->', amount_due)\n"
   ]
  },
  {
   "cell_type": "markdown",
   "metadata": {},
   "source": [
    "Old code"
   ]
  },
  {
   "cell_type": "code",
   "execution_count": 19,
   "metadata": {},
   "outputs": [
    {
     "name": "stdout",
     "output_type": "stream",
     "text": [
      "We have been subscribed to Spotify for: 36 months\n",
      "There was a price change on 1 of September. \n",
      "So we have been paying to the old spotify's price for 33 months.\n",
      "And to the new spotify price for 3 months.\n",
      "Spyrellis  owes -> 2.48\n",
      "Konstantina  owes -> 26.48\n",
      "Christopher  owes -> -1.52\n",
      "Mazarakis  owes -> 12.48\n",
      "Mo  owes -> 0.0\n"
     ]
    }
   ],
   "source": [
    "# from datetime import datetime\n",
    "# from dateutil import relativedelta\n",
    "\n",
    "# first_payment = '18/11/2020' #prwti plirwmi\n",
    "# todays_day = datetime.today().strftime('%d/%m/%Y') #Simerini imerominia \n",
    "\n",
    "# start_date = datetime.strptime(first_payment, \"%d/%m/%Y\")\n",
    "# end_date = datetime.strptime(todays_day, \"%d/%m/%Y\")\n",
    "# delta = relativedelta.relativedelta(end_date, start_date)\n",
    "# # get months difference\n",
    "# months_from_start_to_today = delta.months + (delta.years * 12)\n",
    "# print('We have been subscribed to Spotify for:', months_from_start_to_today,  \"months\")\n",
    "# date_where_spotify_price_changed = \"01/09/2023\"\n",
    "# date_where_spotify_price_changed = datetime.strptime(date_where_spotify_price_changed, \"%d/%m/%Y\")\n",
    "# months_since_new_price = delta = relativedelta.relativedelta(end_date, date_where_spotify_price_changed)\n",
    "# months_since_new_price = months_since_new_price.months + (months_since_new_price.years * 12)\n",
    " \n",
    "# months_with_original_price = months_from_start_to_today - months_since_new_price\n",
    "# print(\"There was a price change on 1 of September. \\nSo we have been paying to the old spotify's price for\",months_with_original_price, \"months.\\nAnd to the new spotify price for\",months_since_new_price, \"months.\")\n",
    "# total_cost_to_be_paid_since_day_one = months_with_original_price*2 + months_since_new_price*2.16\n",
    "# # 18 noemvri o mo bike sth thesi tou andrikopoulou\n",
    "# paid = {\n",
    "#   \"Spyrellis\": 20+50,\n",
    "#   \"Konstantina\": 46, \n",
    "#   #\"Andrikopoulos\": 48+20,\n",
    "#   \"Christopher\": 74,\n",
    "#   \"Mazarakis\": 36+24,\n",
    "#   \"Mo\": 0\n",
    "# }\n",
    "# for key in paid:\n",
    "#     amount = round(total_cost_to_be_paid_since_day_one - paid[key],2)\n",
    "#     if key == \"Mo\":\n",
    "#         amount = amount -72.48\n",
    "#     print(key, ' owes ->', amount)"
   ]
  }
 ],
 "metadata": {
  "kernelspec": {
   "display_name": "Python 3.9.0 64-bit (system)",
   "language": "python",
   "name": "python3"
  },
  "language_info": {
   "codemirror_mode": {
    "name": "ipython",
    "version": 3
   },
   "file_extension": ".py",
   "mimetype": "text/x-python",
   "name": "python",
   "nbconvert_exporter": "python",
   "pygments_lexer": "ipython3",
   "version": "3.11.4"
  },
  "orig_nbformat": 4,
  "vscode": {
   "interpreter": {
    "hash": "1d58ed5f177fd93b43db106f746c919ea7e6996bc070c8841d6890bc725d5b77"
   }
  }
 },
 "nbformat": 4,
 "nbformat_minor": 2
}

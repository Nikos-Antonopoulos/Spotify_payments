{
 "cells": [
  {
   "cell_type": "code",
   "execution_count": 4,
   "metadata": {},
   "outputs": [
    {
     "name": "stdout",
     "output_type": "stream",
     "text": [
      "Months subscribed to Spotify: 57 \n",
      "\n",
      "There was a price change on 1 of September 2023 and again on 1 of September 2025.\n",
      "\n",
      "We have been paying based on the old Spotify price (2.00 €/month) for: 33 months.\n",
      "We have been paying based on the mid Spotify price (2.16 €/month) for: 24 months.\n",
      "We have been paying based on the new Spotify price (2.4983 €/month) for: 0 months.\n",
      "\n",
      "Spyrellis  owes -> 22.84\n",
      "Konstantina  owes -> 12.84\n",
      "Christopher  owes -> 13.84\n",
      "Mazarakis  owes -> 11.84\n",
      "Mo  owes -> 12.96\n"
     ]
    }
   ],
   "source": [
    "from datetime import datetime\n",
    "from dateutil.relativedelta import relativedelta\n",
    "\n",
    "# Subscription details\n",
    "first_payment_date = datetime.strptime('18/11/2020', \"%d/%m/%Y\")\n",
    "today_date = datetime.today()\n",
    "\n",
    "# Price change dates\n",
    "price_change_date_1 = datetime.strptime('01/09/2023', \"%d/%m/%Y\")\n",
    "price_change_date_2 = datetime.strptime('01/09/2025', \"%d/%m/%Y\")\n",
    "\n",
    "# Calculate months subscribed to Spotify\n",
    "months_subscribed = relativedelta(today_date, first_payment_date).months + (relativedelta(today_date, first_payment_date).years * 12)\n",
    "print(\"Months subscribed to Spotify:\", months_subscribed, \"\\n\")\n",
    "\n",
    "# Months with original price\n",
    "months_with_original_price = relativedelta(price_change_date_1, first_payment_date).months + (relativedelta(price_change_date_1, first_payment_date).years * 12)\n",
    "\n",
    "# Months with 2nd price\n",
    "months_with_second_price = relativedelta(price_change_date_2, price_change_date_1).months + (relativedelta(price_change_date_2, price_change_date_1).years * 12)\n",
    "\n",
    "# Months with new price until today\n",
    "months_with_new_price = months_subscribed - months_with_original_price - months_with_second_price\n",
    "\n",
    "print(\"There was a price change on 1 of September 2023 and again on 1 of September 2025.\\n\")\n",
    "print(\"We have been paying based on the old Spotify price (2.00 €/month) for:\", months_with_original_price, \"months.\")\n",
    "print(\"We have been paying based on the mid Spotify price (2.16 €/month) for:\", months_with_second_price, \"months.\")\n",
    "print(\"We have been paying based on the new Spotify price (2.4983 €/month) for:\", months_with_new_price, \"months.\\n\")\n",
    "\n",
    "# Calculate total cost\n",
    "total_cost = months_with_original_price * 2 + months_with_second_price * 2.16 + months_with_new_price * 2.4983\n",
    "\n",
    "# Amounts paid already\n",
    "amounts_paid = {\n",
    "    \"Spyrellis\": 20 + 50 + 25,\n",
    "    \"Konstantina\": 46 + 35 + 24,\n",
    "    \"Christopher\": 74 + 30 + 44,\n",
    "    \"Mazarakis\": 36 + 24 + 16 + 12 + 18,\n",
    "    \"Mo\": 8.64 + 23.76\n",
    "}\n",
    "\n",
    "# Calculate amounts owed\n",
    "amounts_owed = {name: round(total_cost - paid, 2) for name, paid in amounts_paid.items()}\n",
    "\n",
    "# Mo joined later (replacing Andrikopoulos)\n",
    "for name, amount_due in amounts_owed.items():\n",
    "    if name == \"Mo\":\n",
    "        amount_due = amount_due - 72.48\n",
    "    print(name, ' owes ->', round(amount_due, 2))\n"
   ]
  }
 ],
 "metadata": {
  "kernelspec": {
   "display_name": "base",
   "language": "python",
   "name": "python3"
  },
  "language_info": {
   "codemirror_mode": {
    "name": "ipython",
    "version": 3
   },
   "file_extension": ".py",
   "mimetype": "text/x-python",
   "name": "python",
   "nbconvert_exporter": "python",
   "pygments_lexer": "ipython3",
   "version": "3.10.10"
  }
 },
 "nbformat": 4,
 "nbformat_minor": 2
}

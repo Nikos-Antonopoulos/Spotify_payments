{
 "cells": [
  {
   "cell_type": "code",
   "execution_count": null,
   "metadata": {},
   "outputs": [],
   "source": [
    "from datetime import datetime\n",
    "from dateutil.relativedelta import relativedelta\n",
    "\n",
    "# Subscription details\n",
    "first_payment_date = datetime.strptime('18/11/2020', \"%d/%m/%Y\")\n",
    "today_date = datetime.today()\n",
    "price_change_date = datetime.strptime('01/09/2023', \"%d/%m/%Y\")\n",
    "\n",
    "# Calculate months subscribed to Spotify\n",
    "months_subscribed = relativedelta(today_date, first_payment_date).months + (relativedelta(today_date, first_payment_date).years * 12)\n",
    "print(\"Months subscribed to Spotify:\", months_subscribed,\"\\n\")\n",
    "\n",
    "# Calculate months with original price and months with new price\n",
    "months_with_original_price = relativedelta(price_change_date, first_payment_date).months + (relativedelta(price_change_date, first_payment_date).years * 12)\n",
    "months_with_new_price = months_subscribed - months_with_original_price\n",
    "print(\"There was a price change on 1 of September 2023. \\nWe have been paying based on the old spotify's price (2 euro/month) for:\",months_with_original_price, \"months.\\nWe have been paying based on the new spotify's price (2.16 euro/month) for:\",months_with_new_price, \"months.\\n\")# Calculate total cost and amounts paid\n",
    "\n",
    "# Calculate total cost and amounts paid\n",
    "total_cost = months_with_original_price * 2 + months_with_new_price * 2.16\n",
    "amounts_paid = {\"Spyrellis\": 20 + 50,\n",
    "                 \"Konstantina\": 46+35,\n",
    "                 #  \"Andrikopoulos\": 48 + 20,\n",
    "                     \"Christopher\": 74, \n",
    "                       \"Mazarakis\": 36 + 24+ 16+12,\n",
    "                         \"Mo\": 8.64}\n",
    "\n",
    "# Calculate amounts owed\n",
    "amounts_owed = {name: round(total_cost - paid, 2) for name, paid in amounts_paid.items()}\n",
    "\n",
    "# Print amounts owed\n",
    "for name, amount_due in amounts_owed.items():\n",
    "    if name == \"Mo\": # Since Mo joined our plan later taking the place of Andrikopoulos\n",
    "      amount_due = amount_due -72.48 \n",
    "    print(name, ' owes ->', round(amount_due,2))"
   ]
  }
 ],
 "metadata": {
  "kernelspec": {
   "display_name": "base",
   "language": "python",
   "name": "python3"
  },
  "language_info": {
   "name": "python",
   "version": "3.10.10"
  }
 },
 "nbformat": 4,
 "nbformat_minor": 2
}
